{
 "cells": [
  {
   "cell_type": "markdown",
   "metadata": {},
   "source": [
    "# Visualizing PUMS Data"
   ]
  },
  {
   "cell_type": "code",
   "execution_count": 1,
   "metadata": {},
   "outputs": [
    {
     "name": "stderr",
     "output_type": "stream",
     "text": [
      "C:\\Users\\sanchez\\AppData\\Local\\Continuum\\anaconda3\\envs\\census\\lib\\site-packages\\tqdm\\autonotebook\\__init__.py:14: TqdmExperimentalWarning: Using `tqdm.autonotebook.tqdm` in notebook mode. Use `tqdm.tqdm` instead to force console mode (e.g. in jupyter console)\n",
      "  \" (e.g. in jupyter console)\", TqdmExperimentalWarning)\n"
     ]
    }
   ],
   "source": [
    "import altair as alt\n",
    "import pandas as pd\n",
    "from pathlib import Path\n",
    "from datetime import datetime as dt\n",
    "from acs_download import tree\n",
    "\n",
    "today = dt.today().strftime(\"%d-%b-%y\")"
   ]
  },
  {
   "cell_type": "code",
   "execution_count": 2,
   "metadata": {},
   "outputs": [],
   "source": [
    "RAW_DATA = Path(\"../data/raw/\")\n",
    "INTERIM_DATA = Path(\"../data/interim/\")"
   ]
  },
  {
   "cell_type": "code",
   "execution_count": 3,
   "metadata": {},
   "outputs": [
    {
     "name": "stdout",
     "output_type": "stream",
     "text": [
      "+ ..\\data\\interim\n",
      "    + ACS_2017\n",
      "        + oh\n",
      "            + ACS2017_PUMS_README.pdf\n",
      "            + psam_p39.csv\n",
      "    + educ_attainment_by_nativity-11-Apr-19.csv\n"
     ]
    }
   ],
   "source": [
    "tree(INTERIM_DATA)"
   ]
  },
  {
   "cell_type": "code",
   "execution_count": 4,
   "metadata": {},
   "outputs": [
    {
     "data": {
      "text/html": [
       "<div>\n",
       "<style scoped>\n",
       "    .dataframe tbody tr th:only-of-type {\n",
       "        vertical-align: middle;\n",
       "    }\n",
       "\n",
       "    .dataframe tbody tr th {\n",
       "        vertical-align: top;\n",
       "    }\n",
       "\n",
       "    .dataframe thead th {\n",
       "        text-align: right;\n",
       "    }\n",
       "</style>\n",
       "<table border=\"1\" class=\"dataframe\">\n",
       "  <thead>\n",
       "    <tr style=\"text-align: right;\">\n",
       "      <th></th>\n",
       "      <th>NATIVITY</th>\n",
       "      <th>EDUC5</th>\n",
       "      <th>PWGTP</th>\n",
       "    </tr>\n",
       "  </thead>\n",
       "  <tbody>\n",
       "    <tr>\n",
       "      <th>0</th>\n",
       "      <td>Foreign-born</td>\n",
       "      <td>Not a high school graduate</td>\n",
       "      <td>0.132837</td>\n",
       "    </tr>\n",
       "    <tr>\n",
       "      <th>1</th>\n",
       "      <td>Foreign-born</td>\n",
       "      <td>High school graduate</td>\n",
       "      <td>0.178323</td>\n",
       "    </tr>\n",
       "    <tr>\n",
       "      <th>2</th>\n",
       "      <td>Foreign-born</td>\n",
       "      <td>Some college</td>\n",
       "      <td>0.113755</td>\n",
       "    </tr>\n",
       "    <tr>\n",
       "      <th>3</th>\n",
       "      <td>Foreign-born</td>\n",
       "      <td>Bachelor's degree</td>\n",
       "      <td>0.293105</td>\n",
       "    </tr>\n",
       "    <tr>\n",
       "      <th>4</th>\n",
       "      <td>Foreign-born</td>\n",
       "      <td>Graduate degree</td>\n",
       "      <td>0.281980</td>\n",
       "    </tr>\n",
       "  </tbody>\n",
       "</table>\n",
       "</div>"
      ],
      "text/plain": [
       "       NATIVITY                       EDUC5     PWGTP\n",
       "0  Foreign-born  Not a high school graduate  0.132837\n",
       "1  Foreign-born        High school graduate  0.178323\n",
       "2  Foreign-born                Some college  0.113755\n",
       "3  Foreign-born           Bachelor's degree  0.293105\n",
       "4  Foreign-born             Graduate degree  0.281980"
      ]
     },
     "execution_count": 4,
     "metadata": {},
     "output_type": "execute_result"
    }
   ],
   "source": [
    "data = pd.read_csv(INTERIM_DATA / \"educ_attainment_by_nativity-11-Apr-19.csv\")\n",
    "\n",
    "data.head()"
   ]
  },
  {
   "cell_type": "markdown",
   "metadata": {},
   "source": [
    "Constructing charts with `altair` is fairly simple:\n",
    "\n",
    "<input type=\"checkbox\"> add data to a `alt.Chart()` object<br>\n",
    "<input type=\"checkbox\"> choose your `mark` (i.e. `mark_bar()`, `mark_circle()`, `mark_line()`) <br>\n",
    "<input type=\"checkbox\"> encode columns of your dataset to elements in your chart (i.e `x = 'NATIVITY'`) <br>\n",
    "<input type=\"checkbox\"> optional: declare your chart's properties like height, width, and a title. <br>"
   ]
  },
  {
   "cell_type": "code",
   "execution_count": 5,
   "metadata": {},
   "outputs": [
    {
     "data": {
      "application/vnd.vegalite.v2+json": {
       "$schema": "https://vega.github.io/schema/vega-lite/v2.6.0.json",
       "config": {
        "view": {
         "height": 300,
         "width": 400
        }
       },
       "data": {
        "name": "data-3e8c3cc37abb1deed40771a873cc5cea"
       },
       "datasets": {
        "data-3e8c3cc37abb1deed40771a873cc5cea": [
         {
          "EDUC5": "Not a high school graduate",
          "NATIVITY": "Foreign-born",
          "PWGTP": 0.13283665298261618
         },
         {
          "EDUC5": "High school graduate",
          "NATIVITY": "Foreign-born",
          "PWGTP": 0.17832345040798744
         },
         {
          "EDUC5": "Some college",
          "NATIVITY": "Foreign-born",
          "PWGTP": 0.1137550048147585
         },
         {
          "EDUC5": "Bachelor's degree",
          "NATIVITY": "Foreign-born",
          "PWGTP": 0.29310475900866656
         },
         {
          "EDUC5": "Graduate degree",
          "NATIVITY": "Foreign-born",
          "PWGTP": 0.2819801327859713
         },
         {
          "EDUC5": "Not a high school graduate",
          "NATIVITY": "Native",
          "PWGTP": 0.08089248931777024
         },
         {
          "EDUC5": "High school graduate",
          "NATIVITY": "Native",
          "PWGTP": 0.3167035334117248
         },
         {
          "EDUC5": "Some college",
          "NATIVITY": "Native",
          "PWGTP": 0.3152320044830341
         },
         {
          "EDUC5": "Bachelor's degree",
          "NATIVITY": "Native",
          "PWGTP": 0.18602049295596865
         },
         {
          "EDUC5": "Graduate degree",
          "NATIVITY": "Native",
          "PWGTP": 0.1011514798315022
         }
        ]
       },
       "encoding": {
        "color": {
         "field": "EDUC5",
         "type": "nominal"
        },
        "x": {
         "field": "NATIVITY",
         "type": "nominal"
        },
        "y": {
         "field": "PWGTP",
         "type": "quantitative"
        }
       },
       "height": 400,
       "mark": "bar",
       "title": "Educational Attainment by Nativity",
       "width": 500
      },
      "image/png": "[encoded data removed]",
      "text/plain": [
       "<VegaLite 2 object>\n",
       "\n",
       "If you see this message, it means the renderer has not been properly enabled\n",
       "for the frontend that you are using. For more information, see\n",
       "https://altair-viz.github.io/user_guide/troubleshooting.html\n"
      ]
     },
     "execution_count": 5,
     "metadata": {},
     "output_type": "execute_result"
    }
   ],
   "source": [
    "alt.Chart(data = data).mark_bar().encode(\n",
    "    x = 'NATIVITY',\n",
    "    y = 'PWGTP',\n",
    "    color = 'EDUC5',\n",
    ").properties(\n",
    "    title = \"Educational Attainment by Nativity\",\n",
    "    height = 400,\n",
    "    width = 500,\n",
    ")"
   ]
  },
  {
   "cell_type": "markdown",
   "metadata": {},
   "source": [
    "It's very easy to customize it further too. For example, if you want to customize your X-axis you can use `alt.X()` instead of assigning a string directly to X:"
   ]
  },
  {
   "cell_type": "code",
   "execution_count": 6,
   "metadata": {},
   "outputs": [
    {
     "data": {
      "application/vnd.vegalite.v2+json": {
       "$schema": "https://vega.github.io/schema/vega-lite/v2.6.0.json",
       "config": {
        "view": {
         "height": 300,
         "width": 400
        }
       },
       "data": {
        "name": "data-3e8c3cc37abb1deed40771a873cc5cea"
       },
       "datasets": {
        "data-3e8c3cc37abb1deed40771a873cc5cea": [
         {
          "EDUC5": "Not a high school graduate",
          "NATIVITY": "Foreign-born",
          "PWGTP": 0.13283665298261618
         },
         {
          "EDUC5": "High school graduate",
          "NATIVITY": "Foreign-born",
          "PWGTP": 0.17832345040798744
         },
         {
          "EDUC5": "Some college",
          "NATIVITY": "Foreign-born",
          "PWGTP": 0.1137550048147585
         },
         {
          "EDUC5": "Bachelor's degree",
          "NATIVITY": "Foreign-born",
          "PWGTP": 0.29310475900866656
         },
         {
          "EDUC5": "Graduate degree",
          "NATIVITY": "Foreign-born",
          "PWGTP": 0.2819801327859713
         },
         {
          "EDUC5": "Not a high school graduate",
          "NATIVITY": "Native",
          "PWGTP": 0.08089248931777024
         },
         {
          "EDUC5": "High school graduate",
          "NATIVITY": "Native",
          "PWGTP": 0.3167035334117248
         },
         {
          "EDUC5": "Some college",
          "NATIVITY": "Native",
          "PWGTP": 0.3152320044830341
         },
         {
          "EDUC5": "Bachelor's degree",
          "NATIVITY": "Native",
          "PWGTP": 0.18602049295596865
         },
         {
          "EDUC5": "Graduate degree",
          "NATIVITY": "Native",
          "PWGTP": 0.1011514798315022
         }
        ]
       },
       "encoding": {
        "color": {
         "field": "EDUC5",
         "type": "nominal"
        },
        "x": {
         "axis": {
          "labelAngle": 0,
          "title": "Californians"
         },
         "field": "NATIVITY",
         "type": "nominal"
        },
        "y": {
         "field": "PWGTP",
         "type": "quantitative"
        }
       },
       "height": 400,
       "mark": "bar",
       "title": "Educational Attainment by Nativity",
       "width": 500
      },
      "image/png": "[encoded data removed]",
      "text/plain": [
       "<VegaLite 2 object>\n",
       "\n",
       "If you see this message, it means the renderer has not been properly enabled\n",
       "for the frontend that you are using. For more information, see\n",
       "https://altair-viz.github.io/user_guide/troubleshooting.html\n"
      ]
     },
     "execution_count": 6,
     "metadata": {},
     "output_type": "execute_result"
    }
   ],
   "source": [
    "alt.Chart(data = data).mark_bar().encode(\n",
    "    x = alt.X('NATIVITY', axis = alt.Axis(labelAngle=0, title = \"Californians\")),\n",
    "    y = 'PWGTP',\n",
    "    color = 'EDUC5',\n",
    ").properties(\n",
    "    title = \"Educational Attainment by Nativity\",\n",
    "    height = 400,\n",
    "    width = 500,\n",
    ")"
   ]
  },
  {
   "cell_type": "markdown",
   "metadata": {},
   "source": [
    "And do the same for the rest of the variables.\n",
    "\n",
    "## More to come..."
   ]
  }
 ],
 "metadata": {
  "kernelspec": {
   "display_name": "Python 3",
   "language": "python",
   "name": "python3"
  },
  "language_info": {
   "codemirror_mode": {
    "name": "ipython",
    "version": 3
   },
   "file_extension": ".py",
   "mimetype": "text/x-python",
   "name": "python",
   "nbconvert_exporter": "python",
   "pygments_lexer": "ipython3",
   "version": "3.7.1"
  }
 },
 "nbformat": 4,
 "nbformat_minor": 2
}
